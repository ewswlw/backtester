{
 "cells": [
  {
   "cell_type": "markdown",
   "metadata": {},
   "source": [
    "# Bloomberg Data Analysis\n",
    "\n",
    "This notebook reads and analyzes the Bloomberg data from CSV files, recreating the tables and providing visualizations."
   ]
  },
  {
   "cell_type": "code",
   "execution_count": 1,
   "metadata": {},
   "outputs": [],
   "source": [
    "import pandas as pd\n",
    "import numpy as np\n",
    "import matplotlib.pyplot as plt\n",
    "import seaborn as sns\n",
    "from pathlib import Path\n",
    "import sys\n",
    "\n",
    "# Add project root to path\n",
    "project_root = Path().absolute().parent\n",
    "sys.path.append(str(project_root))\n",
    "\n",
    "# Import our utility function\n",
    "from src.utils.csv_exporter import read_csv_to_df\n",
    "\n",
    "# Set up plotting style\n",
    "plt.style.use('default')  # Using default style instead of seaborn\n",
    "sns.set_theme()  # This will apply seaborn styling\n",
    "plt.rcParams['figure.figsize'] = [15, 8]\n",
    "plt.rcParams['figure.dpi'] = 100\n",
    "plt.rcParams['axes.grid'] = True\n",
    "plt.rcParams['grid.alpha'] = 0.3\n",
    "plt.rcParams['lines.linewidth'] = 1.5\n",
    "\n",
    "# Read the CSV files using our utility function\n",
    "data_dir = project_root / 'data'\n",
    "sprds_df = read_csv_to_df(data_dir / 'sprds_data.csv')\n",
    "derv_df = read_csv_to_df(data_dir / 'derv_data.csv')\n",
    "er_ytd_df = read_csv_to_df(data_dir / 'er_ytd_data.csv')"
   ]
  },
  {
   "cell_type": "code",
   "execution_count": 2,
   "metadata": {},
   "outputs": [
    {
     "name": "stdout",
     "output_type": "stream",
     "text": [
      "<class 'pandas.core.frame.DataFrame'>\n",
      "DatetimeIndex: 5530 entries, 2002-10-01 to 2024-11-29\n",
      "Data columns (total 29 columns):\n",
      " #   Column                  Non-Null Count  Dtype  \n",
      "---  ------                  --------------  -----  \n",
      " 0   cad_ig_oas              5529 non-null   float64\n",
      " 1   us_ig_oas               5530 non-null   float64\n",
      " 2   us_hy_oas               5530 non-null   float64\n",
      " 3   eur_ig_oas              5443 non-null   float64\n",
      " 4   cad_ig_oas_1-5yr        1729 non-null   float64\n",
      " 5   cad_ig_oas_5-10yr       1729 non-null   float64\n",
      " 6   cad_ig_oas_>10yr        1729 non-null   float64\n",
      " 7   cad_ig_oas_fins         5529 non-null   float64\n",
      " 8   cad_ig_oas_industrials  5529 non-null   float64\n",
      " 9   cad_ig_oas_utility      5529 non-null   float64\n",
      " 10  cad_ig_oas_a            5529 non-null   float64\n",
      " 11  cad_ig_oas_bbb          5489 non-null   float64\n",
      " 12  cad_prov_oas            1767 non-null   float64\n",
      " 13  cad_prov_oas_1-5yr      1684 non-null   float64\n",
      " 14  cad_prov_oas_5-10yr     1684 non-null   float64\n",
      " 15  cad_prov_oas_10yr       1684 non-null   float64\n",
      " 16  cad_prov_cmb            5507 non-null   float64\n",
      " 17  us_ig_oas_aaa           5505 non-null   float64\n",
      " 18  us_ig_oas_aa            5505 non-null   float64\n",
      " 19  us_ig_oas_a             5505 non-null   float64\n",
      " 20  us_ig_oas_bbb           5505 non-null   float64\n",
      " 21  us_ig_oas_1-3yr         5499 non-null   float64\n",
      " 22  us_ig_oas_3-5yr         5499 non-null   float64\n",
      " 23  us_ig_oas_5-7yr         5499 non-null   float64\n",
      " 24  us_ig_oas_7-10yr        5499 non-null   float64\n",
      " 25  us_ig_oas_10yr          5499 non-null   float64\n",
      " 26  us_ig_oas_industrials   5530 non-null   float64\n",
      " 27  us_ig_oas_uts           5530 non-null   float64\n",
      " 28  us_ig_oas_fins          5530 non-null   float64\n",
      "dtypes: float64(29)\n",
      "memory usage: 1.3 MB\n"
     ]
    }
   ],
   "source": [
    "sprds_df.info()"
   ]
  },
  {
   "cell_type": "code",
   "execution_count": 3,
   "metadata": {},
   "outputs": [
    {
     "name": "stdout",
     "output_type": "stream",
     "text": [
      "<class 'pandas.core.frame.DataFrame'>\n",
      "DatetimeIndex: 5113 entries, 2004-11-19 to 2024-11-29\n",
      "Data columns (total 2 columns):\n",
      " #   Column  Non-Null Count  Dtype  \n",
      "---  ------  --------------  -----  \n",
      " 0   cdx_ig  5112 non-null   float64\n",
      " 1   cdx_hy  4009 non-null   float64\n",
      "dtypes: float64(2)\n",
      "memory usage: 119.8 KB\n"
     ]
    }
   ],
   "source": [
    "derv_df.info()"
   ]
  },
  {
   "cell_type": "code",
   "execution_count": 4,
   "metadata": {},
   "outputs": [
    {
     "name": "stdout",
     "output_type": "stream",
     "text": [
      "<class 'pandas.core.frame.DataFrame'>\n",
      "DatetimeIndex: 5563 entries, 2002-10-01 to 2024-11-29\n",
      "Data columns (total 29 columns):\n",
      " #   Column                  Non-Null Count  Dtype  \n",
      "---  ------                  --------------  -----  \n",
      " 0   cad_ig_oas              5562 non-null   float64\n",
      " 1   us_ig_oas               5563 non-null   float64\n",
      " 2   us_hy_oas               5563 non-null   float64\n",
      " 3   eur_ig_oas              5475 non-null   float64\n",
      " 4   cad_ig_oas_1-5yr        1762 non-null   float64\n",
      " 5   cad_ig_oas_5-10yr       1762 non-null   float64\n",
      " 6   cad_ig_oas_>10yr        1762 non-null   float64\n",
      " 7   cad_ig_oas_fins         5562 non-null   float64\n",
      " 8   cad_ig_oas_industrials  5562 non-null   float64\n",
      " 9   cad_ig_oas_utility      5562 non-null   float64\n",
      " 10  cad_ig_oas_a            5562 non-null   float64\n",
      " 11  cad_ig_oas_bbb          5522 non-null   float64\n",
      " 12  cad_prov_oas            1800 non-null   float64\n",
      " 13  cad_prov_oas_1-5yr      1708 non-null   float64\n",
      " 14  cad_prov_oas_5-10yr     1717 non-null   float64\n",
      " 15  cad_prov_oas_10yr       1708 non-null   float64\n",
      " 16  cad_prov_cmb            5522 non-null   float64\n",
      " 17  us_ig_oas_aaa           5538 non-null   float64\n",
      " 18  us_ig_oas_aa            5538 non-null   float64\n",
      " 19  us_ig_oas_a             5538 non-null   float64\n",
      " 20  us_ig_oas_bbb           5538 non-null   float64\n",
      " 21  us_ig_oas_1-3yr         5532 non-null   float64\n",
      " 22  us_ig_oas_3-5yr         5532 non-null   float64\n",
      " 23  us_ig_oas_5-7yr         5532 non-null   float64\n",
      " 24  us_ig_oas_7-10yr        5532 non-null   float64\n",
      " 25  us_ig_oas_10yr          5532 non-null   float64\n",
      " 26  us_ig_oas_industrials   5563 non-null   float64\n",
      " 27  us_ig_oas_uts           5563 non-null   float64\n",
      " 28  us_ig_oas_fins          5563 non-null   float64\n",
      "dtypes: float64(29)\n",
      "memory usage: 1.3 MB\n"
     ]
    }
   ],
   "source": [
    "er_ytd_df.info()"
   ]
  },
  {
   "cell_type": "code",
   "execution_count": null,
   "metadata": {},
   "outputs": [],
   "source": []
  }
 ],
 "metadata": {
  "kernelspec": {
   "display_name": "tajana-oX0Eg0_6-py3.11",
   "language": "python",
   "name": "python3"
  },
  "language_info": {
   "codemirror_mode": {
    "name": "ipython",
    "version": 3
   },
   "file_extension": ".py",
   "mimetype": "text/x-python",
   "name": "python",
   "nbconvert_exporter": "python",
   "pygments_lexer": "ipython3",
   "version": "3.11.4"
  }
 },
 "nbformat": 4,
 "nbformat_minor": 4
}
